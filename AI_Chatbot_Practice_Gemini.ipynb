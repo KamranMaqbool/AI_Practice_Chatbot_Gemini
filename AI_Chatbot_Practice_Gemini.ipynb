{
 "cells": [
  {
   "cell_type": "code",
   "execution_count": 12,
   "id": "6e8db19f-df24-49ba-af0a-5267dd7f8e6c",
   "metadata": {},
   "outputs": [],
   "source": [
    "!pip install -q -U python-dotenv\n",
    "!pip install -q -U google-genai"
   ]
  },
  {
   "cell_type": "code",
   "execution_count": 25,
   "id": "8e2d8e7d-235c-4833-9929-3d61efba81a4",
   "metadata": {},
   "outputs": [
    {
     "data": {
      "text/plain": [
       "True"
      ]
     },
     "execution_count": 25,
     "metadata": {},
     "output_type": "execute_result"
    }
   ],
   "source": [
    "# Load Envirnoment Variables\n",
    "\n",
    "from dotenv import load_dotenv\n",
    "import os\n",
    "load_dotenv()\n"
   ]
  },
  {
   "cell_type": "code",
   "execution_count": 26,
   "id": "06db9ea7-bc3b-4cbf-a383-5a1e09d0eac7",
   "metadata": {},
   "outputs": [],
   "source": [
    "GOOGLE_API_KEY = os.getenv(\"GOOGLE_API_KEY\")"
   ]
  },
  {
   "cell_type": "code",
   "execution_count": 41,
   "id": "85380c84-1fa4-4758-927a-892852134571",
   "metadata": {},
   "outputs": [],
   "source": [
    "# Initiize Google gemini client\n",
    "from google import genai\n",
    "\n",
    "client = genai.Client()"
   ]
  },
  {
   "cell_type": "code",
   "execution_count": 51,
   "id": "78a170f4-e8ea-4b41-b2a9-2e8b3cb73594",
   "metadata": {},
   "outputs": [
    {
     "data": {
      "text/plain": [
       "\u001b[31mSignature:\u001b[39m\n",
       "client.models.generate_content(\n",
       "    *,\n",
       "    model: str,\n",
       "    contents: Union[list[Union[google.genai.types.Content, list[Union[google.genai.types.File, google.genai.types.Part, str]], google.genai.types.File, google.genai.types.Part, str]], google.genai.types.Content, list[Union[google.genai.types.File, google.genai.types.Part, str]], google.genai.types.File, google.genai.types.Part, str, list[Union[google.genai.types.Content, list[Union[google.genai.types.File, google.genai.types.Part, str]], google.genai.types.File, google.genai.types.Part, str, google.genai.types.ContentDict]], google.genai.types.ContentDict],\n",
       "    config: Union[google.genai.types.GenerateContentConfig, google.genai.types.GenerateContentConfigDict, NoneType] = \u001b[38;5;28;01mNone\u001b[39;00m,\n",
       ") -> google.genai.types.GenerateContentResponse\n",
       "\u001b[31mDocstring:\u001b[39m\n",
       "Makes an API request to generate content using a model.\n",
       "\n",
       "For the `model` parameter, supported formats for Vertex AI API include:\n",
       "- The Gemini model ID, for example: 'gemini-2.0-flash'\n",
       "- The full resource name starts with 'projects/', for example:\n",
       "  'projects/my-project-id/locations/us-central1/publishers/google/models/gemini-2.0-flash'\n",
       "- The partial resource name with 'publishers/', for example:\n",
       "  'publishers/google/models/gemini-2.0-flash' or\n",
       "  'publishers/meta/models/llama-3.1-405b-instruct-maas'\n",
       "- `/` separated publisher and model name, for example:\n",
       "  'google/gemini-2.0-flash' or 'meta/llama-3.1-405b-instruct-maas'\n",
       "\n",
       "For the `model` parameter, supported formats for Gemini API include:\n",
       "- The Gemini model ID, for example: 'gemini-2.0-flash'\n",
       "- The model name starts with 'models/', for example:\n",
       "  'models/gemini-2.0-flash'\n",
       "- For tuned models, the model name starts with 'tunedModels/',\n",
       "  for example:\n",
       "  'tunedModels/1234567890123456789'\n",
       "\n",
       "Some models support multimodal input and output.\n",
       "\n",
       "Built-in MCP support is an experimental feature.\n",
       "\n",
       "Usage:\n",
       "\n",
       ".. code-block:: python\n",
       "\n",
       "  from google.genai import types\n",
       "  from google import genai\n",
       "\n",
       "  client = genai.Client(\n",
       "      vertexai=True, project='my-project-id', location='us-central1'\n",
       "  )\n",
       "\n",
       "  response = client.models.generate_content(\n",
       "    model='gemini-2.0-flash',\n",
       "    contents='''What is a good name for a flower shop that specializes in\n",
       "      selling bouquets of dried flowers?'''\n",
       "  )\n",
       "  print(response.text)\n",
       "  # **Elegant & Classic:**\n",
       "  # * The Dried Bloom\n",
       "  # * Everlasting Florals\n",
       "  # * Timeless Petals\n",
       "\n",
       "  response = client.models.generate_content(\n",
       "    model='gemini-2.0-flash',\n",
       "    contents=[\n",
       "      types.Part.from_text(text='What is shown in this image?'),\n",
       "      types.Part.from_uri(file_uri='gs://generativeai-downloads/images/scones.jpg',\n",
       "      mime_type='image/jpeg')\n",
       "    ]\n",
       "  )\n",
       "  print(response.text)\n",
       "  # The image shows a flat lay arrangement of freshly baked blueberry\n",
       "  # scones.\n",
       "\u001b[31mFile:\u001b[39m      ~/kamran-dev/jupyter_notebooks/venv/lib/python3.12/site-packages/google/genai/models.py\n",
       "\u001b[31mType:\u001b[39m      method"
      ]
     },
     "metadata": {},
     "output_type": "display_data"
    }
   ],
   "source": [
    "# help(client.models.generate_content)\n",
    "client.models.generate_content?\n",
    "# client.models.generate_content.__doc__"
   ]
  },
  {
   "cell_type": "code",
   "execution_count": 73,
   "id": "7aa23877-9f4b-4ccb-8aff-9e0492a61539",
   "metadata": {},
   "outputs": [],
   "source": [
    "MODEL_NAME = \"gemini-2.5-flash\"\n",
    "content = \"Explain how AI works in a few words\""
   ]
  },
  {
   "cell_type": "code",
   "execution_count": 79,
   "id": "51b13fdb-3906-4b2a-96e8-35ac5f1ea301",
   "metadata": {},
   "outputs": [
    {
     "name": "stdout",
     "output_type": "stream",
     "text": [
      "AI works by finding patterns in data.\n"
     ]
    }
   ],
   "source": [
    "from google.genai import types\n",
    "\n",
    "\n",
    "response = client.models.generate_content(\n",
    "    model=MODEL_NAME, \n",
    "    contents=content,\n",
    "    config=types.GenerateContentConfig(\n",
    "        thinking_config=types.ThinkingConfig(thinking_budget=0) # Disables thinking\n",
    "    )\n",
    ")\n",
    "print(response.text)"
   ]
  },
  {
   "cell_type": "code",
   "execution_count": null,
   "id": "6008d7d3-92a6-4be9-8400-82476fdaf152",
   "metadata": {},
   "outputs": [],
   "source": []
  }
 ],
 "metadata": {
  "kernelspec": {
   "display_name": "Python 3 (ipykernel)",
   "language": "python",
   "name": "python3"
  },
  "language_info": {
   "codemirror_mode": {
    "name": "ipython",
    "version": 3
   },
   "file_extension": ".py",
   "mimetype": "text/x-python",
   "name": "python",
   "nbconvert_exporter": "python",
   "pygments_lexer": "ipython3",
   "version": "3.12.3"
  }
 },
 "nbformat": 4,
 "nbformat_minor": 5
}
